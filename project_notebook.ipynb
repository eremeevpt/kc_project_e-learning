{
 "cells": [
  {
   "cell_type": "code",
   "execution_count": 8,
   "metadata": {},
   "outputs": [],
   "source": [
    "import pandas as pd\n",
    "import seaborn as sns\n",
    "import matplotlib.pyplot as plt\n",
    "import pandahouse as ph"
   ]
  },
  {
   "cell_type": "code",
   "execution_count": 12,
   "metadata": {},
   "outputs": [],
   "source": [
    "a = pd.read_csv('data/assessments.csv')\n",
    "\n",
    "# assessments.csv — this file contains information about scores in tests.\n",
    "# Typically each subject includes a series of grades followed by a final exam.\n",
    "\n",
    "    # code_module — module identification code.\n",
    "\n",
    "    # code_presentation — semester (identification code).\n",
    "\n",
    "    # id_assessment — test (assessment identification number).\n",
    "\n",
    "    # assessment_type — test type. There are three types of assessment:\n",
    "    # teacher assessment (TMA), computer-aided assessment (CMA), course exam (Exam).\n",
    "\n",
    "    # date — information about the final date of the test. \n",
    "    # Calculated as the number of days since the beginning of the semester. \n",
    "    # The start date of the semester is numbered 0 (zero).\n",
    "\n",
    "    # weight — assessment weight in %. Usually exams are considered separately and have a weight of 100%;\n",
    "    # the sum of all other scores is 100%.\n",
    "\n",
    "c = pd.read_csv('data/courses.csv')\n",
    "\n",
    "# courses.csv — the file contains a list of all available modules (courses) and their presentations.\n",
    "\n",
    "    # code_module - module (identification code).\n",
    "\n",
    "    # code_presentation — semester (identification code).\n",
    "\n",
    "    # module_presentation_length — semester length in days.\n",
    "\n",
    "st_a = pd.read_csv('data/studentAssessment.csv')\n",
    "\n",
    "# studentAssessment.csv — this file contains student test scores.\n",
    "# If the student does not pass (does not turn in the work, does not send the result) test,\n",
    "# the result is not written to the table. Final exams are not accepted,\n",
    "# if the result of the pretests is missing from the system.\n",
    "\n",
    "    # id_assessment — test (identification number).\n",
    "\n",
    "    # id_student — student identification number.\n",
    "\n",
    "    # date_submitted — the date the student applied, measured as the number of days since the beginning of the semester.\n",
    "\n",
    "    # is_banked — the fact of passing the test in the last semester.\n",
    "\n",
    "    # score — the student's score on this test. The range is 0 to 100. A score below 40 is interpreted as a failure.\n",
    "\n",
    "st_reg = pd.read_csv('data/studentRegistration.csv')\n",
    "\n",
    "\n",
    "# studentRegistration.csv — this file contains time information,\n",
    "# when a student has registered for an intra-semester course.\n",
    "\n",
    "    # code_module - module (identification code).\n",
    "\n",
    "    # code_presentation — semester (identification code).\n",
    "    \n",
    "    # id_student — student identification number.\n",
    "\n",
    "    # date_registration — date of registration of the student, this is the number of days,\n",
    "    # measured from the beginning of the semester (for example, a negative value of -30 means\n",
    "    # that the student registered for the course 30 days before the start of the course).\n",
    "\n",
    "    # date_unregistration — the date on which the student's enrollment in the module was canceled.\n",
    "    # For students who have completed the course, this field is left blank."
   ]
  },
  {
   "cell_type": "code",
   "execution_count": null,
   "metadata": {},
   "outputs": [],
   "source": [
    "# 1. How many students have successfully passed only one course?"
   ]
  },
  {
   "cell_type": "code",
   "execution_count": null,
   "metadata": {},
   "outputs": [],
   "source": []
  }
 ],
 "metadata": {
  "kernelspec": {
   "display_name": "Python 3",
   "language": "python",
   "name": "python3"
  },
  "language_info": {
   "codemirror_mode": {
    "name": "ipython",
    "version": 3
   },
   "file_extension": ".py",
   "mimetype": "text/x-python",
   "name": "python",
   "nbconvert_exporter": "python",
   "pygments_lexer": "ipython3",
   "version": "3.8.5"
  }
 },
 "nbformat": 4,
 "nbformat_minor": 4
}
